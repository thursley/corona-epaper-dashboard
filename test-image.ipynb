{
 "metadata": {
  "language_info": {
   "codemirror_mode": {
    "name": "ipython",
    "version": 3
   },
   "file_extension": ".py",
   "mimetype": "text/x-python",
   "name": "python",
   "nbconvert_exporter": "python",
   "pygments_lexer": "ipython3",
   "version": "3.9.4-final"
  },
  "orig_nbformat": 2,
  "kernelspec": {
   "name": "python39464bit55ddf4d1b3a441cb8f0e6b4932e8a208",
   "display_name": "Python 3.9.4 64-bit"
  }
 },
 "nbformat": 4,
 "nbformat_minor": 2,
 "cells": [
  {
   "cell_type": "code",
   "execution_count": 17,
   "metadata": {},
   "outputs": [],
   "source": [
    "from PIL import Image"
   ]
  },
  {
   "cell_type": "code",
   "execution_count": 18,
   "metadata": {},
   "outputs": [],
   "source": [
    "from PIL import ImageDraw"
   ]
  },
  {
   "cell_type": "code",
   "execution_count": 19,
   "metadata": {},
   "outputs": [],
   "source": [
    "from PIL import ImageFont"
   ]
  },
  {
   "cell_type": "code",
   "execution_count": 20,
   "metadata": {},
   "outputs": [],
   "source": [
    "import numpy as np"
   ]
  },
  {
   "cell_type": "code",
   "execution_count": 21,
   "metadata": {},
   "outputs": [],
   "source": [
    "height = 250\n",
    "width = 128\n"
   ]
  },
  {
   "cell_type": "code",
   "execution_count": 22,
   "metadata": {},
   "outputs": [],
   "source": [
    "im_black = Image.new('1', (width, height), 255)\n",
    "im_red = Image.new('1', (width, height), 255)\n"
   ]
  },
  {
   "cell_type": "code",
   "execution_count": 23,
   "metadata": {},
   "outputs": [],
   "source": [
    "class Text:\n",
    "    def __init__(self, position, size_factor):\n",
    "        self._position = position\n",
    "        self._sizefactor = size_factor\n",
    "\n",
    "    # def draw(self, )\n",
    "    "
   ]
  },
  {
   "cell_type": "code",
   "execution_count": null,
   "metadata": {},
   "outputs": [],
   "source": []
  },
  {
   "cell_type": "code",
   "execution_count": 24,
   "metadata": {},
   "outputs": [
    {
     "output_type": "execute_result",
     "data": {
      "text/plain": [
       "<PIL.Image.Image image mode=1 size=128x250 at 0x7F25466687F0>"
      ],
      "image/png": "[encoded data removed]"
     },
     "metadata": {},
     "execution_count": 24
    }
   ],
   "source": [
    "padding = 10\n",
    "\n",
    "draw_red = ImageDraw.Draw(im_red)\n",
    "draw_black = ImageDraw.Draw(im_black)\n",
    "original_fontsize = 10\n",
    "font_factor = 2\n",
    "# font = ImageFont.truetype('/usr/share/fonts/adobe-source-code-pro/SourceCodePro-Regular.otf', 12)\n",
    "font = ImageFont.truetype('/home/hen/Downloads/Minecraftia-Regular.ttf', original_fontsize * font_factor)\n",
    "font_caption = ImageFont.truetype('/home/hen/Downloads/Minecraftia-Regular.ttf', original_fontsize)\n",
    "\n",
    "\n",
    "message1 = '13.4'\n",
    "w1, h1 = draw_red.textsize(message1, font=font)\n",
    "\n",
    "message2 = f'{w1},{h1}'\n",
    "w2, h2 = draw_red.textsize(message2, font=font)\n",
    "\n",
    "w = max(w1, w2)\n",
    "\n",
    "inner_padd = 5\n",
    "upper_border = padding - inner_padd\n",
    "lower_border = padding + h1 * 2 + inner_padd\n",
    "\n",
    "left_border = (width - w) / 2 - inner_padd\n",
    "right_border = (width + w) / 2 + inner_padd\n",
    "\n",
    "upper_left = (left_border, upper_border)\n",
    "upper_right = (right_border, upper_border)\n",
    "lower_left = (left_border, lower_border)\n",
    "lower_right = (right_border, lower_border)\n",
    "\n",
    "upper_caption = 'th'\n",
    "\n",
    "w_c1, h_c1 = draw_red.textsize(upper_caption,font=font_caption)\n",
    "upper_caption_line = (((width - w_c1) / 2 - inner_padd, upper_border), ((width + w_c1) / 2 + inner_padd, upper_border))\n",
    "\n",
    "lower_caption = 'brd'\n",
    "\n",
    "w_c2, h_c2 = draw_red.textsize(lower_caption,font=font_caption)\n",
    "lower_caption_line = (((width - w_c2) / 2 - inner_padd, lower_border - 1), ((width + w_c2) / 2 + inner_padd, lower_border - 1))\n",
    "\n",
    "\n",
    "draw_red.text(((width - w1) / 2, 10), message1, font = font, fill = 0x0)\n",
    "w,h = draw_red.textsize(message2, font=font)\n",
    "\n",
    "draw_red.text(((width - w2) / 2, 10 + h), message2, font = font, fill = 0x0)\n",
    "\n",
    "draw_red.line([upper_left, upper_right, lower_right, lower_left, upper_left],width=2, fill=0x0)\n",
    "\n",
    "draw_red.line(upper_caption_line, width = 2, fill =0xff)\n",
    "draw_red.line(lower_caption_line, width = 2, fill =0xff)\n",
    "\n",
    "draw_red.text(((width - w_c1) / 2, upper_border - h_c1 / 4), upper_caption, font=font_caption)\n",
    "draw_red.text(((width - w_c2) / 2, lower_border - h_c2 / 3), lower_caption, font=font_caption)\n",
    "\n",
    "\n",
    "im_red"
   ]
  },
  {
   "cell_type": "code",
   "execution_count": 25,
   "metadata": {},
   "outputs": [
    {
     "output_type": "stream",
     "name": "stdout",
     "text": [
      "39: 187\n55: 161\n71: 187\n83: 1\n84: 0\n85: 0\n86: 240\n87: 187\n88: 248\n89: 15\n90: 0\n91: 0\n92: 128\n99: 1\n100: 0\n101: 0\n102: 240\n103: 59\n104: 251\n105: 15\n106: 0\n107: 0\n108: 128\n115: 249\n119: 187\n120: 251\n124: 159\n131: 249\n135: 187\n136: 251\n140: 159\n147: 249\n151: 187\n152: 251\n156: 159\n163: 249\n167: 175\n168: 251\n172: 159\n179: 249\n188: 159\n195: 249\n204: 159\n211: 249\n220: 159\n227: 249\n236: 159\n243: 249\n245: 143\n247: 1\n250: 131\n252: 159\n259: 249\n261: 143\n263: 1\n266: 131\n268: 159\n275: 249\n277: 129\n278: 63\n279: 254\n280: 248\n281: 127\n282: 140\n284: 159\n291: 249\n293: 129\n294: 63\n295: 254\n296: 248\n297: 127\n298: 140\n300: 159\n307: 249\n309: 143\n312: 248\n314: 143\n316: 159\n323: 249\n325: 143\n328: 248\n329: 159\n330: 143\n332: 159\n339: 249\n341: 143\n344: 248\n345: 159\n346: 143\n348: 159\n355: 249\n357: 143\n359: 7\n361: 227\n362: 143\n364: 159\n371: 249\n373: 143\n375: 7\n377: 227\n378: 143\n380: 159\n387: 249\n389: 143\n392: 248\n393: 227\n394: 143\n396: 159\n403: 249\n405: 143\n408: 248\n409: 3\n410: 128\n412: 159\n419: 249\n421: 143\n424: 248\n425: 3\n426: 128\n428: 159\n435: 249\n437: 143\n438: 63\n439: 254\n440: 24\n442: 143\n444: 159\n451: 249\n453: 143\n454: 63\n455: 254\n456: 24\n458: 143\n460: 159\n467: 249\n469: 143\n472: 31\n474: 143\n476: 159\n483: 249\n484: 127\n485: 0\n486: 240\n487: 1\n488: 31\n490: 143\n492: 159\n499: 249\n500: 127\n501: 0\n502: 240\n503: 1\n504: 31\n506: 143\n508: 159\n515: 249\n524: 159\n531: 249\n540: 159\n547: 249\n556: 159\n563: 249\n572: 159\n579: 249\n588: 159\n595: 249\n604: 159\n611: 249\n620: 159\n627: 249\n636: 159\n643: 249\n652: 159\n659: 249\n668: 159\n675: 249\n684: 159\n691: 249\n700: 159\n707: 249\n716: 159\n723: 249\n732: 159\n739: 249\n748: 159\n755: 249\n764: 159\n771: 249\n780: 159\n787: 249\n796: 159\n803: 121\n804: 0\n805: 240\n806: 1\n808: 31\n809: 240\n810: 1\n811: 192\n812: 159\n819: 121\n820: 0\n821: 240\n822: 1\n824: 31\n825: 240\n826: 1\n827: 192\n828: 159\n835: 121\n836: 252\n837: 63\n838: 254\n839: 248\n840: 227\n841: 143\n842: 241\n844: 159\n851: 121\n852: 252\n853: 63\n854: 254\n855: 248\n856: 227\n857: 143\n858: 241\n860: 159\n867: 121\n868: 252\n869: 63\n870: 254\n871: 248\n873: 143\n874: 241\n876: 159\n883: 121\n884: 0\n885: 62\n886: 62\n887: 248\n889: 143\n890: 1\n891: 248\n892: 159\n899: 121\n900: 0\n901: 62\n902: 62\n903: 248\n905: 143\n906: 1\n907: 248\n908: 159\n915: 249\n917: 49\n918: 198\n919: 248\n920: 127\n921: 240\n923: 199\n924: 159\n931: 249\n933: 49\n934: 198\n935: 248\n936: 127\n937: 240\n939: 199\n940: 159\n947: 249\n949: 49\n950: 254\n951: 248\n953: 143\n955: 199\n956: 159\n963: 249\n965: 49\n966: 248\n967: 248\n969: 143\n971: 199\n972: 159\n979: 249\n981: 49\n982: 248\n983: 248\n985: 143\n987: 199\n988: 159\n995: 121\n996: 252\n997: 49\n998: 254\n999: 248\n1000: 227\n1001: 143\n1002: 241\n1003: 199\n1004: 159\n1011: 121\n1012: 252\n1013: 49\n1014: 254\n1015: 24\n1016: 227\n1017: 143\n1018: 241\n1019: 199\n1020: 159\n1027: 249\n1031: 31\n1036: 159\n1043: 249\n1044: 3\n1045: 254\n1046: 1\n1047: 31\n1048: 31\n1049: 240\n1050: 15\n1051: 248\n1052: 159\n1059: 249\n1060: 3\n1061: 254\n1062: 1\n1063: 31\n1064: 31\n1065: 240\n1066: 15\n1067: 248\n1068: 159\n1075: 249\n1079: 31\n1084: 159\n1091: 249\n1095: 31\n1100: 159\n1107: 249\n1111: 31\n1116: 159\n1123: 249\n1132: 159\n1139: 249\n1148: 159\n1155: 249\n1164: 159\n1171: 249\n1180: 159\n1187: 249\n1196: 159\n1203: 249\n1212: 159\n1219: 249\n1228: 159\n1235: 249\n1244: 159\n1251: 249\n1260: 159\n1267: 249\n1276: 159\n1283: 249\n1292: 159\n1299: 249\n1302: 239\n1305: 254\n1308: 159\n1315: 249\n1318: 239\n1321: 254\n1324: 159\n1331: 249\n1334: 239\n1337: 254\n1340: 159\n1347: 1\n1348: 0\n1349: 128\n1350: 47\n1351: 46\n1352: 142\n1353: 254\n1354: 3\n1355: 0\n1356: 128\n1363: 1\n1364: 0\n1365: 128\n1366: 207\n1367: 206\n1368: 118\n1369: 254\n1370: 3\n1371: 0\n1372: 128\n1382: 239\n1383: 238\n1384: 247\n1385: 254\n1398: 239\n1399: 238\n1400: 247\n1401: 254\n1414: 239\n1415: 238\n1416: 247\n1417: 254\n1430: 15\n1431: 238\n1432: 15\n1433: 254\n"
     ]
    }
   ],
   "source": [
    "def to_bytes(image):\n",
    "    data = np.zeros(width * height // 8, dtype=np.uint8)\n",
    "    for i, byte in enumerate(image.getdata()):\n",
    "        if 0 != byte:\n",
    "            data[i // 8] |= (1 << i % 8)\n",
    "    return data\n",
    "\n",
    "len(im_red.getdata())\n",
    "for i, byte in enumerate(to_bytes(im_red)):\n",
    "    if 255 != byte:\n",
    "        print(f'{i}: {byte}')"
   ]
  },
  {
   "cell_type": "code",
   "execution_count": null,
   "metadata": {},
   "outputs": [],
   "source": []
  }
 ]
}